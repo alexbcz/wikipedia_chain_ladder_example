{
 "cells": [
  {
   "cell_type": "code",
   "execution_count": 1,
   "id": "df77c2a6",
   "metadata": {},
   "outputs": [],
   "source": [
    "import pandas as pd\n",
    "import chainladder as cl"
   ]
  },
  {
   "cell_type": "code",
   "execution_count": 2,
   "id": "037cf533",
   "metadata": {},
   "outputs": [],
   "source": [
    "wiki = pd.read_csv('wikipedia.csv', sep=';')[['Accident Year', 'Development Year', 'Incurred']]"
   ]
  },
  {
   "cell_type": "code",
   "execution_count": 3,
   "id": "8784c0a0",
   "metadata": {},
   "outputs": [
    {
     "data": {
      "text/html": [
       "<table border=\"1\" class=\"dataframe\">\n",
       "  <thead>\n",
       "    <tr style=\"text-align: right;\">\n",
       "      <th></th>\n",
       "      <th>12</th>\n",
       "      <th>24</th>\n",
       "      <th>36</th>\n",
       "      <th>48</th>\n",
       "      <th>60</th>\n",
       "      <th>72</th>\n",
       "      <th>84</th>\n",
       "      <th>96</th>\n",
       "      <th>108</th>\n",
       "      <th>120</th>\n",
       "    </tr>\n",
       "  </thead>\n",
       "  <tbody>\n",
       "    <tr>\n",
       "      <th>1998</th>\n",
       "      <td>37,017,487</td>\n",
       "      <td>43,169,009</td>\n",
       "      <td>45,568,919</td>\n",
       "      <td>46,784,558</td>\n",
       "      <td>47,337,318</td>\n",
       "      <td>47,533,264</td>\n",
       "      <td>47,634,419</td>\n",
       "      <td>47,689,655</td>\n",
       "      <td>47,724,678</td>\n",
       "      <td>47,742,304</td>\n",
       "    </tr>\n",
       "    <tr>\n",
       "      <th>1999</th>\n",
       "      <td>38,954,484</td>\n",
       "      <td>46,045,718</td>\n",
       "      <td>48,882,924</td>\n",
       "      <td>50,219,672</td>\n",
       "      <td>50,729,292</td>\n",
       "      <td>50,926,779</td>\n",
       "      <td>51,069,285</td>\n",
       "      <td>51,163,540</td>\n",
       "      <td>51,185,767</td>\n",
       "      <td></td>\n",
       "    </tr>\n",
       "    <tr>\n",
       "      <th>2000</th>\n",
       "      <td>41,155,776</td>\n",
       "      <td>49,371,478</td>\n",
       "      <td>52,358,476</td>\n",
       "      <td>53,780,322</td>\n",
       "      <td>54,303,086</td>\n",
       "      <td>54,582,950</td>\n",
       "      <td>54,742,188</td>\n",
       "      <td>54,837,929</td>\n",
       "      <td></td>\n",
       "      <td></td>\n",
       "    </tr>\n",
       "    <tr>\n",
       "      <th>2001</th>\n",
       "      <td>42,394,069</td>\n",
       "      <td>50,584,112</td>\n",
       "      <td>53,704,296</td>\n",
       "      <td>55,150,118</td>\n",
       "      <td>55,895,583</td>\n",
       "      <td>56,156,727</td>\n",
       "      <td>56,299,562</td>\n",
       "      <td></td>\n",
       "      <td></td>\n",
       "      <td></td>\n",
       "    </tr>\n",
       "    <tr>\n",
       "      <th>2002</th>\n",
       "      <td>44,755,243</td>\n",
       "      <td>52,971,643</td>\n",
       "      <td>56,102,312</td>\n",
       "      <td>57,703,851</td>\n",
       "      <td>58,363,564</td>\n",
       "      <td>58,592,712</td>\n",
       "      <td></td>\n",
       "      <td></td>\n",
       "      <td></td>\n",
       "      <td></td>\n",
       "    </tr>\n",
       "    <tr>\n",
       "      <th>2003</th>\n",
       "      <td>45,163,102</td>\n",
       "      <td>52,497,731</td>\n",
       "      <td>55,468,551</td>\n",
       "      <td>57,015,411</td>\n",
       "      <td>57,565,344</td>\n",
       "      <td></td>\n",
       "      <td></td>\n",
       "      <td></td>\n",
       "      <td></td>\n",
       "      <td></td>\n",
       "    </tr>\n",
       "    <tr>\n",
       "      <th>2004</th>\n",
       "      <td>45,417,309</td>\n",
       "      <td>52,640,322</td>\n",
       "      <td>55,553,673</td>\n",
       "      <td>56,976,657</td>\n",
       "      <td></td>\n",
       "      <td></td>\n",
       "      <td></td>\n",
       "      <td></td>\n",
       "      <td></td>\n",
       "      <td></td>\n",
       "    </tr>\n",
       "    <tr>\n",
       "      <th>2005</th>\n",
       "      <td>46,360,869</td>\n",
       "      <td>53,790,061</td>\n",
       "      <td>56,786,410</td>\n",
       "      <td></td>\n",
       "      <td></td>\n",
       "      <td></td>\n",
       "      <td></td>\n",
       "      <td></td>\n",
       "      <td></td>\n",
       "      <td></td>\n",
       "    </tr>\n",
       "    <tr>\n",
       "      <th>2006</th>\n",
       "      <td>46,582,684</td>\n",
       "      <td>54,641,339</td>\n",
       "      <td></td>\n",
       "      <td></td>\n",
       "      <td></td>\n",
       "      <td></td>\n",
       "      <td></td>\n",
       "      <td></td>\n",
       "      <td></td>\n",
       "      <td></td>\n",
       "    </tr>\n",
       "    <tr>\n",
       "      <th>2007</th>\n",
       "      <td>48,853,563</td>\n",
       "      <td></td>\n",
       "      <td></td>\n",
       "      <td></td>\n",
       "      <td></td>\n",
       "      <td></td>\n",
       "      <td></td>\n",
       "      <td></td>\n",
       "      <td></td>\n",
       "      <td></td>\n",
       "    </tr>\n",
       "  </tbody>\n",
       "</table>"
      ],
      "text/plain": [
       "             12          24          36          48          60          72          84          96          108         120\n",
       "1998  37017487.0  43169009.0  45568919.0  46784558.0  47337318.0  47533264.0  47634419.0  47689655.0  47724678.0  47742304.0\n",
       "1999  38954484.0  46045718.0  48882924.0  50219672.0  50729292.0  50926779.0  51069285.0  51163540.0  51185767.0         NaN\n",
       "2000  41155776.0  49371478.0  52358476.0  53780322.0  54303086.0  54582950.0  54742188.0  54837929.0         NaN         NaN\n",
       "2001  42394069.0  50584112.0  53704296.0  55150118.0  55895583.0  56156727.0  56299562.0         NaN         NaN         NaN\n",
       "2002  44755243.0  52971643.0  56102312.0  57703851.0  58363564.0  58592712.0         NaN         NaN         NaN         NaN\n",
       "2003  45163102.0  52497731.0  55468551.0  57015411.0  57565344.0         NaN         NaN         NaN         NaN         NaN\n",
       "2004  45417309.0  52640322.0  55553673.0  56976657.0         NaN         NaN         NaN         NaN         NaN         NaN\n",
       "2005  46360869.0  53790061.0  56786410.0         NaN         NaN         NaN         NaN         NaN         NaN         NaN\n",
       "2006  46582684.0  54641339.0         NaN         NaN         NaN         NaN         NaN         NaN         NaN         NaN\n",
       "2007  48853563.0         NaN         NaN         NaN         NaN         NaN         NaN         NaN         NaN         NaN"
      ]
     },
     "execution_count": 3,
     "metadata": {},
     "output_type": "execute_result"
    }
   ],
   "source": [
    "xyz_tri = cl.Triangle(\n",
    "    data=wiki,\n",
    "    origin=\"Accident Year\",\n",
    "    development=\"Development Year\",\n",
    "    columns=[\"Incurred\"],\n",
    "    cumulative=True,\n",
    ")\n",
    "xyz_tri"
   ]
  },
  {
   "cell_type": "markdown",
   "id": "86372a2b",
   "metadata": {},
   "source": [
    "### Age-to-age factors"
   ]
  },
  {
   "cell_type": "code",
   "execution_count": 4,
   "id": "7c6ad8ac",
   "metadata": {},
   "outputs": [
    {
     "data": {
      "text/html": [
       "<style type=\"text/css\">\n",
       "</style>\n",
       "<table id=\"T_93dab\">\n",
       "  <thead>\n",
       "    <tr>\n",
       "      <th class=\"blank level0\" >&nbsp;</th>\n",
       "      <th id=\"T_93dab_level0_col0\" class=\"col_heading level0 col0\" >12-24</th>\n",
       "      <th id=\"T_93dab_level0_col1\" class=\"col_heading level0 col1\" >24-36</th>\n",
       "      <th id=\"T_93dab_level0_col2\" class=\"col_heading level0 col2\" >36-48</th>\n",
       "      <th id=\"T_93dab_level0_col3\" class=\"col_heading level0 col3\" >48-60</th>\n",
       "      <th id=\"T_93dab_level0_col4\" class=\"col_heading level0 col4\" >60-72</th>\n",
       "      <th id=\"T_93dab_level0_col5\" class=\"col_heading level0 col5\" >72-84</th>\n",
       "      <th id=\"T_93dab_level0_col6\" class=\"col_heading level0 col6\" >84-96</th>\n",
       "      <th id=\"T_93dab_level0_col7\" class=\"col_heading level0 col7\" >96-108</th>\n",
       "      <th id=\"T_93dab_level0_col8\" class=\"col_heading level0 col8\" >108-120</th>\n",
       "    </tr>\n",
       "  </thead>\n",
       "  <tbody>\n",
       "    <tr>\n",
       "      <th id=\"T_93dab_level0_row0\" class=\"row_heading level0 row0\" >1998</th>\n",
       "      <td id=\"T_93dab_row0_col0\" class=\"data row0 col0\" >1.166</td>\n",
       "      <td id=\"T_93dab_row0_col1\" class=\"data row0 col1\" >1.056</td>\n",
       "      <td id=\"T_93dab_row0_col2\" class=\"data row0 col2\" >1.027</td>\n",
       "      <td id=\"T_93dab_row0_col3\" class=\"data row0 col3\" >1.012</td>\n",
       "      <td id=\"T_93dab_row0_col4\" class=\"data row0 col4\" >1.004</td>\n",
       "      <td id=\"T_93dab_row0_col5\" class=\"data row0 col5\" >1.002</td>\n",
       "      <td id=\"T_93dab_row0_col6\" class=\"data row0 col6\" >1.001</td>\n",
       "      <td id=\"T_93dab_row0_col7\" class=\"data row0 col7\" >1.001</td>\n",
       "      <td id=\"T_93dab_row0_col8\" class=\"data row0 col8\" >1.000</td>\n",
       "    </tr>\n",
       "    <tr>\n",
       "      <th id=\"T_93dab_level0_row1\" class=\"row_heading level0 row1\" >1999</th>\n",
       "      <td id=\"T_93dab_row1_col0\" class=\"data row1 col0\" >1.182</td>\n",
       "      <td id=\"T_93dab_row1_col1\" class=\"data row1 col1\" >1.062</td>\n",
       "      <td id=\"T_93dab_row1_col2\" class=\"data row1 col2\" >1.027</td>\n",
       "      <td id=\"T_93dab_row1_col3\" class=\"data row1 col3\" >1.010</td>\n",
       "      <td id=\"T_93dab_row1_col4\" class=\"data row1 col4\" >1.004</td>\n",
       "      <td id=\"T_93dab_row1_col5\" class=\"data row1 col5\" >1.003</td>\n",
       "      <td id=\"T_93dab_row1_col6\" class=\"data row1 col6\" >1.002</td>\n",
       "      <td id=\"T_93dab_row1_col7\" class=\"data row1 col7\" >1.000</td>\n",
       "      <td id=\"T_93dab_row1_col8\" class=\"data row1 col8\" >nan</td>\n",
       "    </tr>\n",
       "    <tr>\n",
       "      <th id=\"T_93dab_level0_row2\" class=\"row_heading level0 row2\" >2000</th>\n",
       "      <td id=\"T_93dab_row2_col0\" class=\"data row2 col0\" >1.200</td>\n",
       "      <td id=\"T_93dab_row2_col1\" class=\"data row2 col1\" >1.061</td>\n",
       "      <td id=\"T_93dab_row2_col2\" class=\"data row2 col2\" >1.027</td>\n",
       "      <td id=\"T_93dab_row2_col3\" class=\"data row2 col3\" >1.010</td>\n",
       "      <td id=\"T_93dab_row2_col4\" class=\"data row2 col4\" >1.005</td>\n",
       "      <td id=\"T_93dab_row2_col5\" class=\"data row2 col5\" >1.003</td>\n",
       "      <td id=\"T_93dab_row2_col6\" class=\"data row2 col6\" >1.002</td>\n",
       "      <td id=\"T_93dab_row2_col7\" class=\"data row2 col7\" >nan</td>\n",
       "      <td id=\"T_93dab_row2_col8\" class=\"data row2 col8\" >nan</td>\n",
       "    </tr>\n",
       "    <tr>\n",
       "      <th id=\"T_93dab_level0_row3\" class=\"row_heading level0 row3\" >2001</th>\n",
       "      <td id=\"T_93dab_row3_col0\" class=\"data row3 col0\" >1.193</td>\n",
       "      <td id=\"T_93dab_row3_col1\" class=\"data row3 col1\" >1.062</td>\n",
       "      <td id=\"T_93dab_row3_col2\" class=\"data row3 col2\" >1.027</td>\n",
       "      <td id=\"T_93dab_row3_col3\" class=\"data row3 col3\" >1.014</td>\n",
       "      <td id=\"T_93dab_row3_col4\" class=\"data row3 col4\" >1.005</td>\n",
       "      <td id=\"T_93dab_row3_col5\" class=\"data row3 col5\" >1.003</td>\n",
       "      <td id=\"T_93dab_row3_col6\" class=\"data row3 col6\" >nan</td>\n",
       "      <td id=\"T_93dab_row3_col7\" class=\"data row3 col7\" >nan</td>\n",
       "      <td id=\"T_93dab_row3_col8\" class=\"data row3 col8\" >nan</td>\n",
       "    </tr>\n",
       "    <tr>\n",
       "      <th id=\"T_93dab_level0_row4\" class=\"row_heading level0 row4\" >2002</th>\n",
       "      <td id=\"T_93dab_row4_col0\" class=\"data row4 col0\" >1.184</td>\n",
       "      <td id=\"T_93dab_row4_col1\" class=\"data row4 col1\" >1.059</td>\n",
       "      <td id=\"T_93dab_row4_col2\" class=\"data row4 col2\" >1.029</td>\n",
       "      <td id=\"T_93dab_row4_col3\" class=\"data row4 col3\" >1.011</td>\n",
       "      <td id=\"T_93dab_row4_col4\" class=\"data row4 col4\" >1.004</td>\n",
       "      <td id=\"T_93dab_row4_col5\" class=\"data row4 col5\" >nan</td>\n",
       "      <td id=\"T_93dab_row4_col6\" class=\"data row4 col6\" >nan</td>\n",
       "      <td id=\"T_93dab_row4_col7\" class=\"data row4 col7\" >nan</td>\n",
       "      <td id=\"T_93dab_row4_col8\" class=\"data row4 col8\" >nan</td>\n",
       "    </tr>\n",
       "    <tr>\n",
       "      <th id=\"T_93dab_level0_row5\" class=\"row_heading level0 row5\" >2003</th>\n",
       "      <td id=\"T_93dab_row5_col0\" class=\"data row5 col0\" >1.162</td>\n",
       "      <td id=\"T_93dab_row5_col1\" class=\"data row5 col1\" >1.057</td>\n",
       "      <td id=\"T_93dab_row5_col2\" class=\"data row5 col2\" >1.028</td>\n",
       "      <td id=\"T_93dab_row5_col3\" class=\"data row5 col3\" >1.010</td>\n",
       "      <td id=\"T_93dab_row5_col4\" class=\"data row5 col4\" >nan</td>\n",
       "      <td id=\"T_93dab_row5_col5\" class=\"data row5 col5\" >nan</td>\n",
       "      <td id=\"T_93dab_row5_col6\" class=\"data row5 col6\" >nan</td>\n",
       "      <td id=\"T_93dab_row5_col7\" class=\"data row5 col7\" >nan</td>\n",
       "      <td id=\"T_93dab_row5_col8\" class=\"data row5 col8\" >nan</td>\n",
       "    </tr>\n",
       "    <tr>\n",
       "      <th id=\"T_93dab_level0_row6\" class=\"row_heading level0 row6\" >2004</th>\n",
       "      <td id=\"T_93dab_row6_col0\" class=\"data row6 col0\" >1.159</td>\n",
       "      <td id=\"T_93dab_row6_col1\" class=\"data row6 col1\" >1.055</td>\n",
       "      <td id=\"T_93dab_row6_col2\" class=\"data row6 col2\" >1.026</td>\n",
       "      <td id=\"T_93dab_row6_col3\" class=\"data row6 col3\" >nan</td>\n",
       "      <td id=\"T_93dab_row6_col4\" class=\"data row6 col4\" >nan</td>\n",
       "      <td id=\"T_93dab_row6_col5\" class=\"data row6 col5\" >nan</td>\n",
       "      <td id=\"T_93dab_row6_col6\" class=\"data row6 col6\" >nan</td>\n",
       "      <td id=\"T_93dab_row6_col7\" class=\"data row6 col7\" >nan</td>\n",
       "      <td id=\"T_93dab_row6_col8\" class=\"data row6 col8\" >nan</td>\n",
       "    </tr>\n",
       "    <tr>\n",
       "      <th id=\"T_93dab_level0_row7\" class=\"row_heading level0 row7\" >2005</th>\n",
       "      <td id=\"T_93dab_row7_col0\" class=\"data row7 col0\" >1.160</td>\n",
       "      <td id=\"T_93dab_row7_col1\" class=\"data row7 col1\" >1.056</td>\n",
       "      <td id=\"T_93dab_row7_col2\" class=\"data row7 col2\" >nan</td>\n",
       "      <td id=\"T_93dab_row7_col3\" class=\"data row7 col3\" >nan</td>\n",
       "      <td id=\"T_93dab_row7_col4\" class=\"data row7 col4\" >nan</td>\n",
       "      <td id=\"T_93dab_row7_col5\" class=\"data row7 col5\" >nan</td>\n",
       "      <td id=\"T_93dab_row7_col6\" class=\"data row7 col6\" >nan</td>\n",
       "      <td id=\"T_93dab_row7_col7\" class=\"data row7 col7\" >nan</td>\n",
       "      <td id=\"T_93dab_row7_col8\" class=\"data row7 col8\" >nan</td>\n",
       "    </tr>\n",
       "    <tr>\n",
       "      <th id=\"T_93dab_level0_row8\" class=\"row_heading level0 row8\" >2006</th>\n",
       "      <td id=\"T_93dab_row8_col0\" class=\"data row8 col0\" >1.173</td>\n",
       "      <td id=\"T_93dab_row8_col1\" class=\"data row8 col1\" >nan</td>\n",
       "      <td id=\"T_93dab_row8_col2\" class=\"data row8 col2\" >nan</td>\n",
       "      <td id=\"T_93dab_row8_col3\" class=\"data row8 col3\" >nan</td>\n",
       "      <td id=\"T_93dab_row8_col4\" class=\"data row8 col4\" >nan</td>\n",
       "      <td id=\"T_93dab_row8_col5\" class=\"data row8 col5\" >nan</td>\n",
       "      <td id=\"T_93dab_row8_col6\" class=\"data row8 col6\" >nan</td>\n",
       "      <td id=\"T_93dab_row8_col7\" class=\"data row8 col7\" >nan</td>\n",
       "      <td id=\"T_93dab_row8_col8\" class=\"data row8 col8\" >nan</td>\n",
       "    </tr>\n",
       "  </tbody>\n",
       "</table>\n"
      ],
      "text/plain": [
       "<pandas.io.formats.style.Styler at 0x287e45b13d0>"
      ]
     },
     "execution_count": 4,
     "metadata": {},
     "output_type": "execute_result"
    }
   ],
   "source": [
    "xyz_tri.age_to_age.to_frame().style.format(precision=3)"
   ]
  },
  {
   "cell_type": "markdown",
   "id": "28685d6c",
   "metadata": {},
   "source": [
    "### Simple average last 5 years"
   ]
  },
  {
   "cell_type": "code",
   "execution_count": 5,
   "id": "e3f7da11",
   "metadata": {},
   "outputs": [
    {
     "data": {
      "text/html": [
       "<style type=\"text/css\">\n",
       "</style>\n",
       "<table id=\"T_5fe9e\">\n",
       "  <thead>\n",
       "    <tr>\n",
       "      <th class=\"blank level0\" >&nbsp;</th>\n",
       "      <th id=\"T_5fe9e_level0_col0\" class=\"col_heading level0 col0\" >12-24</th>\n",
       "      <th id=\"T_5fe9e_level0_col1\" class=\"col_heading level0 col1\" >24-36</th>\n",
       "      <th id=\"T_5fe9e_level0_col2\" class=\"col_heading level0 col2\" >36-48</th>\n",
       "      <th id=\"T_5fe9e_level0_col3\" class=\"col_heading level0 col3\" >48-60</th>\n",
       "      <th id=\"T_5fe9e_level0_col4\" class=\"col_heading level0 col4\" >60-72</th>\n",
       "      <th id=\"T_5fe9e_level0_col5\" class=\"col_heading level0 col5\" >72-84</th>\n",
       "      <th id=\"T_5fe9e_level0_col6\" class=\"col_heading level0 col6\" >84-96</th>\n",
       "      <th id=\"T_5fe9e_level0_col7\" class=\"col_heading level0 col7\" >96-108</th>\n",
       "      <th id=\"T_5fe9e_level0_col8\" class=\"col_heading level0 col8\" >108-120</th>\n",
       "    </tr>\n",
       "  </thead>\n",
       "  <tbody>\n",
       "    <tr>\n",
       "      <th id=\"T_5fe9e_level0_row0\" class=\"row_heading level0 row0\" >(All)</th>\n",
       "      <td id=\"T_5fe9e_row0_col0\" class=\"data row0 col0\" >1.168</td>\n",
       "      <td id=\"T_5fe9e_row0_col1\" class=\"data row0 col1\" >1.058</td>\n",
       "      <td id=\"T_5fe9e_row0_col2\" class=\"data row0 col2\" >1.027</td>\n",
       "      <td id=\"T_5fe9e_row0_col3\" class=\"data row0 col3\" >1.011</td>\n",
       "      <td id=\"T_5fe9e_row0_col4\" class=\"data row0 col4\" >1.004</td>\n",
       "      <td id=\"T_5fe9e_row0_col5\" class=\"data row0 col5\" >1.003</td>\n",
       "      <td id=\"T_5fe9e_row0_col6\" class=\"data row0 col6\" >1.002</td>\n",
       "      <td id=\"T_5fe9e_row0_col7\" class=\"data row0 col7\" >1.001</td>\n",
       "      <td id=\"T_5fe9e_row0_col8\" class=\"data row0 col8\" >1.000</td>\n",
       "    </tr>\n",
       "  </tbody>\n",
       "</table>\n"
      ],
      "text/plain": [
       "<pandas.io.formats.style.Styler at 0x287e4447d50>"
      ]
     },
     "execution_count": 5,
     "metadata": {},
     "output_type": "execute_result"
    }
   ],
   "source": [
    "cl.Development(average=\"simple\", n_periods=5).fit(xyz_tri[\"Incurred\"]).ldf_.to_frame().style.format(precision=3)"
   ]
  },
  {
   "cell_type": "markdown",
   "id": "205c6ebf",
   "metadata": {},
   "source": [
    "### Simple average last 3 years"
   ]
  },
  {
   "cell_type": "code",
   "execution_count": 6,
   "id": "8c97611f",
   "metadata": {},
   "outputs": [
    {
     "data": {
      "text/html": [
       "<style type=\"text/css\">\n",
       "</style>\n",
       "<table id=\"T_c2f46\">\n",
       "  <thead>\n",
       "    <tr>\n",
       "      <th class=\"blank level0\" >&nbsp;</th>\n",
       "      <th id=\"T_c2f46_level0_col0\" class=\"col_heading level0 col0\" >12-24</th>\n",
       "      <th id=\"T_c2f46_level0_col1\" class=\"col_heading level0 col1\" >24-36</th>\n",
       "      <th id=\"T_c2f46_level0_col2\" class=\"col_heading level0 col2\" >36-48</th>\n",
       "      <th id=\"T_c2f46_level0_col3\" class=\"col_heading level0 col3\" >48-60</th>\n",
       "      <th id=\"T_c2f46_level0_col4\" class=\"col_heading level0 col4\" >60-72</th>\n",
       "      <th id=\"T_c2f46_level0_col5\" class=\"col_heading level0 col5\" >72-84</th>\n",
       "      <th id=\"T_c2f46_level0_col6\" class=\"col_heading level0 col6\" >84-96</th>\n",
       "      <th id=\"T_c2f46_level0_col7\" class=\"col_heading level0 col7\" >96-108</th>\n",
       "      <th id=\"T_c2f46_level0_col8\" class=\"col_heading level0 col8\" >108-120</th>\n",
       "    </tr>\n",
       "  </thead>\n",
       "  <tbody>\n",
       "    <tr>\n",
       "      <th id=\"T_c2f46_level0_row0\" class=\"row_heading level0 row0\" >(All)</th>\n",
       "      <td id=\"T_c2f46_row0_col0\" class=\"data row0 col0\" >1.164</td>\n",
       "      <td id=\"T_c2f46_row0_col1\" class=\"data row0 col1\" >1.056</td>\n",
       "      <td id=\"T_c2f46_row0_col2\" class=\"data row0 col2\" >1.027</td>\n",
       "      <td id=\"T_c2f46_row0_col3\" class=\"data row0 col3\" >1.012</td>\n",
       "      <td id=\"T_c2f46_row0_col4\" class=\"data row0 col4\" >1.005</td>\n",
       "      <td id=\"T_c2f46_row0_col5\" class=\"data row0 col5\" >1.003</td>\n",
       "      <td id=\"T_c2f46_row0_col6\" class=\"data row0 col6\" >1.002</td>\n",
       "      <td id=\"T_c2f46_row0_col7\" class=\"data row0 col7\" >1.001</td>\n",
       "      <td id=\"T_c2f46_row0_col8\" class=\"data row0 col8\" >1.000</td>\n",
       "    </tr>\n",
       "  </tbody>\n",
       "</table>\n"
      ],
      "text/plain": [
       "<pandas.io.formats.style.Styler at 0x287e6355410>"
      ]
     },
     "execution_count": 6,
     "metadata": {},
     "output_type": "execute_result"
    }
   ],
   "source": [
    "cl.Development(average=\"simple\", n_periods=3).fit(xyz_tri[\"Incurred\"]).ldf_.to_frame().style.format(precision=3)"
   ]
  },
  {
   "cell_type": "markdown",
   "id": "b3e0f2fd",
   "metadata": {},
   "source": [
    "### Volume weighted last 5 years"
   ]
  },
  {
   "cell_type": "code",
   "execution_count": 7,
   "id": "263c3b2c",
   "metadata": {},
   "outputs": [
    {
     "data": {
      "text/html": [
       "<style type=\"text/css\">\n",
       "</style>\n",
       "<table id=\"T_6ac0c\">\n",
       "  <thead>\n",
       "    <tr>\n",
       "      <th class=\"blank level0\" >&nbsp;</th>\n",
       "      <th id=\"T_6ac0c_level0_col0\" class=\"col_heading level0 col0\" >12-24</th>\n",
       "      <th id=\"T_6ac0c_level0_col1\" class=\"col_heading level0 col1\" >24-36</th>\n",
       "      <th id=\"T_6ac0c_level0_col2\" class=\"col_heading level0 col2\" >36-48</th>\n",
       "      <th id=\"T_6ac0c_level0_col3\" class=\"col_heading level0 col3\" >48-60</th>\n",
       "      <th id=\"T_6ac0c_level0_col4\" class=\"col_heading level0 col4\" >60-72</th>\n",
       "      <th id=\"T_6ac0c_level0_col5\" class=\"col_heading level0 col5\" >72-84</th>\n",
       "      <th id=\"T_6ac0c_level0_col6\" class=\"col_heading level0 col6\" >84-96</th>\n",
       "      <th id=\"T_6ac0c_level0_col7\" class=\"col_heading level0 col7\" >96-108</th>\n",
       "      <th id=\"T_6ac0c_level0_col8\" class=\"col_heading level0 col8\" >108-120</th>\n",
       "    </tr>\n",
       "  </thead>\n",
       "  <tbody>\n",
       "    <tr>\n",
       "      <th id=\"T_6ac0c_level0_row0\" class=\"row_heading level0 row0\" >(All)</th>\n",
       "      <td id=\"T_6ac0c_row0_col0\" class=\"data row0 col0\" >1.168</td>\n",
       "      <td id=\"T_6ac0c_row0_col1\" class=\"data row0 col1\" >1.058</td>\n",
       "      <td id=\"T_6ac0c_row0_col2\" class=\"data row0 col2\" >1.027</td>\n",
       "      <td id=\"T_6ac0c_row0_col3\" class=\"data row0 col3\" >1.011</td>\n",
       "      <td id=\"T_6ac0c_row0_col4\" class=\"data row0 col4\" >1.004</td>\n",
       "      <td id=\"T_6ac0c_row0_col5\" class=\"data row0 col5\" >1.003</td>\n",
       "      <td id=\"T_6ac0c_row0_col6\" class=\"data row0 col6\" >1.002</td>\n",
       "      <td id=\"T_6ac0c_row0_col7\" class=\"data row0 col7\" >1.001</td>\n",
       "      <td id=\"T_6ac0c_row0_col8\" class=\"data row0 col8\" >1.000</td>\n",
       "    </tr>\n",
       "  </tbody>\n",
       "</table>\n"
      ],
      "text/plain": [
       "<pandas.io.formats.style.Styler at 0x287e6316b10>"
      ]
     },
     "execution_count": 7,
     "metadata": {},
     "output_type": "execute_result"
    }
   ],
   "source": [
    "cl.Development(average=\"volume\", n_periods=5).fit(xyz_tri[\"Incurred\"]).ldf_.to_frame().style.format(precision=3)"
   ]
  },
  {
   "cell_type": "markdown",
   "id": "4aa21c41",
   "metadata": {},
   "source": [
    "### Volume weighted last 5 years"
   ]
  },
  {
   "cell_type": "code",
   "execution_count": 8,
   "id": "056e89d6",
   "metadata": {},
   "outputs": [
    {
     "data": {
      "text/html": [
       "<style type=\"text/css\">\n",
       "</style>\n",
       "<table id=\"T_16c5a\">\n",
       "  <thead>\n",
       "    <tr>\n",
       "      <th class=\"blank level0\" >&nbsp;</th>\n",
       "      <th id=\"T_16c5a_level0_col0\" class=\"col_heading level0 col0\" >12-24</th>\n",
       "      <th id=\"T_16c5a_level0_col1\" class=\"col_heading level0 col1\" >24-36</th>\n",
       "      <th id=\"T_16c5a_level0_col2\" class=\"col_heading level0 col2\" >36-48</th>\n",
       "      <th id=\"T_16c5a_level0_col3\" class=\"col_heading level0 col3\" >48-60</th>\n",
       "      <th id=\"T_16c5a_level0_col4\" class=\"col_heading level0 col4\" >60-72</th>\n",
       "      <th id=\"T_16c5a_level0_col5\" class=\"col_heading level0 col5\" >72-84</th>\n",
       "      <th id=\"T_16c5a_level0_col6\" class=\"col_heading level0 col6\" >84-96</th>\n",
       "      <th id=\"T_16c5a_level0_col7\" class=\"col_heading level0 col7\" >96-108</th>\n",
       "      <th id=\"T_16c5a_level0_col8\" class=\"col_heading level0 col8\" >108-120</th>\n",
       "    </tr>\n",
       "  </thead>\n",
       "  <tbody>\n",
       "    <tr>\n",
       "      <th id=\"T_16c5a_level0_row0\" class=\"row_heading level0 row0\" >(All)</th>\n",
       "      <td id=\"T_16c5a_row0_col0\" class=\"data row0 col0\" >1.164</td>\n",
       "      <td id=\"T_16c5a_row0_col1\" class=\"data row0 col1\" >1.056</td>\n",
       "      <td id=\"T_16c5a_row0_col2\" class=\"data row0 col2\" >1.027</td>\n",
       "      <td id=\"T_16c5a_row0_col3\" class=\"data row0 col3\" >1.012</td>\n",
       "      <td id=\"T_16c5a_row0_col4\" class=\"data row0 col4\" >1.005</td>\n",
       "      <td id=\"T_16c5a_row0_col5\" class=\"data row0 col5\" >1.003</td>\n",
       "      <td id=\"T_16c5a_row0_col6\" class=\"data row0 col6\" >1.002</td>\n",
       "      <td id=\"T_16c5a_row0_col7\" class=\"data row0 col7\" >1.001</td>\n",
       "      <td id=\"T_16c5a_row0_col8\" class=\"data row0 col8\" >1.000</td>\n",
       "    </tr>\n",
       "  </tbody>\n",
       "</table>\n"
      ],
      "text/plain": [
       "<pandas.io.formats.style.Styler at 0x287e6345050>"
      ]
     },
     "execution_count": 8,
     "metadata": {},
     "output_type": "execute_result"
    }
   ],
   "source": [
    "cl.Development(average=\"volume\", n_periods=3).fit(xyz_tri[\"Incurred\"]).ldf_.to_frame().style.format(precision=3)"
   ]
  },
  {
   "cell_type": "markdown",
   "id": "1c4e8334",
   "metadata": {},
   "source": [
    "### Cumulative to ultimate"
   ]
  },
  {
   "cell_type": "code",
   "execution_count": 9,
   "id": "831dd008",
   "metadata": {},
   "outputs": [
    {
     "data": {
      "text/html": [
       "<table border=\"1\" class=\"dataframe\">\n",
       "  <thead>\n",
       "    <tr style=\"text-align: right;\">\n",
       "      <th></th>\n",
       "      <th>12-Ult</th>\n",
       "      <th>24-Ult</th>\n",
       "      <th>36-Ult</th>\n",
       "      <th>48-Ult</th>\n",
       "      <th>60-Ult</th>\n",
       "      <th>72-Ult</th>\n",
       "      <th>84-Ult</th>\n",
       "      <th>96-Ult</th>\n",
       "      <th>108-Ult</th>\n",
       "    </tr>\n",
       "  </thead>\n",
       "  <tbody>\n",
       "    <tr>\n",
       "      <th>(All)</th>\n",
       "      <td>1.2900</td>\n",
       "      <td>1.1081</td>\n",
       "      <td>1.0495</td>\n",
       "      <td>1.0215</td>\n",
       "      <td>1.0099</td>\n",
       "      <td>1.0053</td>\n",
       "      <td>1.0025</td>\n",
       "      <td>1.0009</td>\n",
       "      <td>1.0004</td>\n",
       "    </tr>\n",
       "  </tbody>\n",
       "</table>"
      ],
      "text/plain": [
       "         12-Ult    24-Ult    36-Ult    48-Ult    60-Ult    72-Ult    84-Ult    96-Ult   108-Ult\n",
       "(All)  1.289992  1.108105  1.049464  1.021522  1.009899  1.005305  1.002548  1.000949  1.000369"
      ]
     },
     "execution_count": 9,
     "metadata": {},
     "output_type": "execute_result"
    }
   ],
   "source": [
    "cl.Development(average=\"volume\", n_periods=3).fit(xyz_tri[\"Incurred\"]).cdf_"
   ]
  },
  {
   "cell_type": "markdown",
   "id": "44a87795",
   "metadata": {},
   "source": [
    "### Estimation of ultimate claims"
   ]
  },
  {
   "cell_type": "code",
   "execution_count": 10,
   "id": "dbc033fd",
   "metadata": {},
   "outputs": [],
   "source": [
    "# ???"
   ]
  },
  {
   "cell_type": "markdown",
   "id": "2541b2a7",
   "metadata": {},
   "source": [
    "How can I apply the cumulative development factors on the latest diagonal the get the result below?\n",
    "\n",
    "#### Estimation of ultimate claims\n",
    "|Accident year\t| Reported claims\t| Development factor to ultimate\t| Projected ultimate claims |\n",
    "|---|---|---|---|\n",
    "|1998\t| 47,742,304\t| 1.000\t| 47,742,304 |\n",
    "|1999\t| 51,185,767\t| 1.000\t| 51,185,767 |\n",
    "|2000\t| 54,837,929\t| 1.001\t| 54,892,767 |\n",
    "|2001\t| 56,299,562\t| 1.003\t| 56,468,461 |\n",
    "|2002\t| 58,592,712\t| 1.006\t| 58,944,268 |\n",
    "|2003\t| 57,565,344\t| 1.011\t| 58,198,563 | \n",
    "|2004\t| 56,976,657\t| 1.023\t| 58,287,120 |\n",
    "|2005\t| 56,786,410\t| 1.051\t| 59,682,517 |\n",
    "|2006\t| 54,641,339\t| 1.110\t| 60,651,886 |\n",
    "|2007\t| 48,853,563\t| 1.292\t| 63,118,803 |\n",
    "|Total\t| 543,481,587\t| \t\t| 569,172,456 |"
   ]
  }
 ],
 "metadata": {
  "kernelspec": {
   "display_name": "Python 3 (ipykernel)",
   "language": "python",
   "name": "python3"
  },
  "language_info": {
   "codemirror_mode": {
    "name": "ipython",
    "version": 3
   },
   "file_extension": ".py",
   "mimetype": "text/x-python",
   "name": "python",
   "nbconvert_exporter": "python",
   "pygments_lexer": "ipython3",
   "version": "3.11.5"
  }
 },
 "nbformat": 4,
 "nbformat_minor": 5
}
