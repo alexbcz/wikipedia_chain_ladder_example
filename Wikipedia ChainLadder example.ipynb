{
 "cells": [
  {
   "cell_type": "code",
   "execution_count": 1,
   "id": "df77c2a6",
   "metadata": {},
   "outputs": [],
   "source": [
    "import pandas as pd\n",
    "import chainladder as cl"
   ]
  },
  {
   "cell_type": "code",
   "execution_count": 2,
   "id": "037cf533",
   "metadata": {},
   "outputs": [],
   "source": [
    "wiki = pd.read_csv('wikipedia.csv', sep=';')[['AccidentYear', 'DevelopmentYear', 'Reported', 'Paid']]"
   ]
  },
  {
   "cell_type": "code",
   "execution_count": 3,
   "id": "8784c0a0",
   "metadata": {},
   "outputs": [
    {
     "data": {
      "text/html": [
       "<table border=\"1\" class=\"dataframe\">\n",
       "  <thead>\n",
       "    <tr style=\"text-align: right;\">\n",
       "      <th></th>\n",
       "      <th>Triangle Summary</th>\n",
       "    </tr>\n",
       "  </thead>\n",
       "  <tbody>\n",
       "    <tr>\n",
       "      <th>Valuation:</th>\n",
       "      <td>2007-12</td>\n",
       "    </tr>\n",
       "    <tr>\n",
       "      <th>Grain:</th>\n",
       "      <td>OYDY</td>\n",
       "    </tr>\n",
       "    <tr>\n",
       "      <th>Shape:</th>\n",
       "      <td>(1, 2, 10, 10)</td>\n",
       "    </tr>\n",
       "    <tr>\n",
       "      <th>Index:</th>\n",
       "      <td>[Total]</td>\n",
       "    </tr>\n",
       "    <tr>\n",
       "      <th>Columns:</th>\n",
       "      <td>[Reported, Paid]</td>\n",
       "    </tr>\n",
       "  </tbody>\n",
       "</table>"
      ],
      "text/plain": [
       "            Triangle Summary\n",
       "Valuation:           2007-12\n",
       "Grain:                  OYDY\n",
       "Shape:        (1, 2, 10, 10)\n",
       "Index:               [Total]\n",
       "Columns:    [Reported, Paid]"
      ]
     },
     "execution_count": 3,
     "metadata": {},
     "output_type": "execute_result"
    }
   ],
   "source": [
    "xyz_tri = cl.Triangle(\n",
    "    data=wiki,\n",
    "    origin=\"AccidentYear\",\n",
    "    development=\"DevelopmentYear\",\n",
    "    columns=[\"Reported\", \"Paid\"],\n",
    "    cumulative=True,\n",
    ")\n",
    "xyz_tri"
   ]
  },
  {
   "cell_type": "markdown",
   "id": "86372a2b",
   "metadata": {},
   "source": [
    "### Age-to-age factors"
   ]
  },
  {
   "cell_type": "code",
   "execution_count": 4,
   "id": "7c6ad8ac",
   "metadata": {},
   "outputs": [
    {
     "data": {
      "text/html": [
       "<style type=\"text/css\">\n",
       "</style>\n",
       "<table id=\"T_4ce36\">\n",
       "  <thead>\n",
       "    <tr>\n",
       "      <th class=\"blank level0\" >&nbsp;</th>\n",
       "      <th id=\"T_4ce36_level0_col0\" class=\"col_heading level0 col0\" >12-24</th>\n",
       "      <th id=\"T_4ce36_level0_col1\" class=\"col_heading level0 col1\" >24-36</th>\n",
       "      <th id=\"T_4ce36_level0_col2\" class=\"col_heading level0 col2\" >36-48</th>\n",
       "      <th id=\"T_4ce36_level0_col3\" class=\"col_heading level0 col3\" >48-60</th>\n",
       "      <th id=\"T_4ce36_level0_col4\" class=\"col_heading level0 col4\" >60-72</th>\n",
       "      <th id=\"T_4ce36_level0_col5\" class=\"col_heading level0 col5\" >72-84</th>\n",
       "      <th id=\"T_4ce36_level0_col6\" class=\"col_heading level0 col6\" >84-96</th>\n",
       "      <th id=\"T_4ce36_level0_col7\" class=\"col_heading level0 col7\" >96-108</th>\n",
       "      <th id=\"T_4ce36_level0_col8\" class=\"col_heading level0 col8\" >108-120</th>\n",
       "    </tr>\n",
       "  </thead>\n",
       "  <tbody>\n",
       "    <tr>\n",
       "      <th id=\"T_4ce36_level0_row0\" class=\"row_heading level0 row0\" >1998</th>\n",
       "      <td id=\"T_4ce36_row0_col0\" class=\"data row0 col0\" >1.166</td>\n",
       "      <td id=\"T_4ce36_row0_col1\" class=\"data row0 col1\" >1.056</td>\n",
       "      <td id=\"T_4ce36_row0_col2\" class=\"data row0 col2\" >1.027</td>\n",
       "      <td id=\"T_4ce36_row0_col3\" class=\"data row0 col3\" >1.012</td>\n",
       "      <td id=\"T_4ce36_row0_col4\" class=\"data row0 col4\" >1.004</td>\n",
       "      <td id=\"T_4ce36_row0_col5\" class=\"data row0 col5\" >1.002</td>\n",
       "      <td id=\"T_4ce36_row0_col6\" class=\"data row0 col6\" >1.001</td>\n",
       "      <td id=\"T_4ce36_row0_col7\" class=\"data row0 col7\" >1.001</td>\n",
       "      <td id=\"T_4ce36_row0_col8\" class=\"data row0 col8\" >1.000</td>\n",
       "    </tr>\n",
       "    <tr>\n",
       "      <th id=\"T_4ce36_level0_row1\" class=\"row_heading level0 row1\" >1999</th>\n",
       "      <td id=\"T_4ce36_row1_col0\" class=\"data row1 col0\" >1.182</td>\n",
       "      <td id=\"T_4ce36_row1_col1\" class=\"data row1 col1\" >1.062</td>\n",
       "      <td id=\"T_4ce36_row1_col2\" class=\"data row1 col2\" >1.027</td>\n",
       "      <td id=\"T_4ce36_row1_col3\" class=\"data row1 col3\" >1.010</td>\n",
       "      <td id=\"T_4ce36_row1_col4\" class=\"data row1 col4\" >1.004</td>\n",
       "      <td id=\"T_4ce36_row1_col5\" class=\"data row1 col5\" >1.003</td>\n",
       "      <td id=\"T_4ce36_row1_col6\" class=\"data row1 col6\" >1.002</td>\n",
       "      <td id=\"T_4ce36_row1_col7\" class=\"data row1 col7\" >1.000</td>\n",
       "      <td id=\"T_4ce36_row1_col8\" class=\"data row1 col8\" >nan</td>\n",
       "    </tr>\n",
       "    <tr>\n",
       "      <th id=\"T_4ce36_level0_row2\" class=\"row_heading level0 row2\" >2000</th>\n",
       "      <td id=\"T_4ce36_row2_col0\" class=\"data row2 col0\" >1.200</td>\n",
       "      <td id=\"T_4ce36_row2_col1\" class=\"data row2 col1\" >1.061</td>\n",
       "      <td id=\"T_4ce36_row2_col2\" class=\"data row2 col2\" >1.027</td>\n",
       "      <td id=\"T_4ce36_row2_col3\" class=\"data row2 col3\" >1.010</td>\n",
       "      <td id=\"T_4ce36_row2_col4\" class=\"data row2 col4\" >1.005</td>\n",
       "      <td id=\"T_4ce36_row2_col5\" class=\"data row2 col5\" >1.003</td>\n",
       "      <td id=\"T_4ce36_row2_col6\" class=\"data row2 col6\" >1.002</td>\n",
       "      <td id=\"T_4ce36_row2_col7\" class=\"data row2 col7\" >nan</td>\n",
       "      <td id=\"T_4ce36_row2_col8\" class=\"data row2 col8\" >nan</td>\n",
       "    </tr>\n",
       "    <tr>\n",
       "      <th id=\"T_4ce36_level0_row3\" class=\"row_heading level0 row3\" >2001</th>\n",
       "      <td id=\"T_4ce36_row3_col0\" class=\"data row3 col0\" >1.193</td>\n",
       "      <td id=\"T_4ce36_row3_col1\" class=\"data row3 col1\" >1.062</td>\n",
       "      <td id=\"T_4ce36_row3_col2\" class=\"data row3 col2\" >1.027</td>\n",
       "      <td id=\"T_4ce36_row3_col3\" class=\"data row3 col3\" >1.014</td>\n",
       "      <td id=\"T_4ce36_row3_col4\" class=\"data row3 col4\" >1.005</td>\n",
       "      <td id=\"T_4ce36_row3_col5\" class=\"data row3 col5\" >1.003</td>\n",
       "      <td id=\"T_4ce36_row3_col6\" class=\"data row3 col6\" >nan</td>\n",
       "      <td id=\"T_4ce36_row3_col7\" class=\"data row3 col7\" >nan</td>\n",
       "      <td id=\"T_4ce36_row3_col8\" class=\"data row3 col8\" >nan</td>\n",
       "    </tr>\n",
       "    <tr>\n",
       "      <th id=\"T_4ce36_level0_row4\" class=\"row_heading level0 row4\" >2002</th>\n",
       "      <td id=\"T_4ce36_row4_col0\" class=\"data row4 col0\" >1.184</td>\n",
       "      <td id=\"T_4ce36_row4_col1\" class=\"data row4 col1\" >1.059</td>\n",
       "      <td id=\"T_4ce36_row4_col2\" class=\"data row4 col2\" >1.029</td>\n",
       "      <td id=\"T_4ce36_row4_col3\" class=\"data row4 col3\" >1.011</td>\n",
       "      <td id=\"T_4ce36_row4_col4\" class=\"data row4 col4\" >1.004</td>\n",
       "      <td id=\"T_4ce36_row4_col5\" class=\"data row4 col5\" >nan</td>\n",
       "      <td id=\"T_4ce36_row4_col6\" class=\"data row4 col6\" >nan</td>\n",
       "      <td id=\"T_4ce36_row4_col7\" class=\"data row4 col7\" >nan</td>\n",
       "      <td id=\"T_4ce36_row4_col8\" class=\"data row4 col8\" >nan</td>\n",
       "    </tr>\n",
       "    <tr>\n",
       "      <th id=\"T_4ce36_level0_row5\" class=\"row_heading level0 row5\" >2003</th>\n",
       "      <td id=\"T_4ce36_row5_col0\" class=\"data row5 col0\" >1.162</td>\n",
       "      <td id=\"T_4ce36_row5_col1\" class=\"data row5 col1\" >1.057</td>\n",
       "      <td id=\"T_4ce36_row5_col2\" class=\"data row5 col2\" >1.028</td>\n",
       "      <td id=\"T_4ce36_row5_col3\" class=\"data row5 col3\" >1.010</td>\n",
       "      <td id=\"T_4ce36_row5_col4\" class=\"data row5 col4\" >nan</td>\n",
       "      <td id=\"T_4ce36_row5_col5\" class=\"data row5 col5\" >nan</td>\n",
       "      <td id=\"T_4ce36_row5_col6\" class=\"data row5 col6\" >nan</td>\n",
       "      <td id=\"T_4ce36_row5_col7\" class=\"data row5 col7\" >nan</td>\n",
       "      <td id=\"T_4ce36_row5_col8\" class=\"data row5 col8\" >nan</td>\n",
       "    </tr>\n",
       "    <tr>\n",
       "      <th id=\"T_4ce36_level0_row6\" class=\"row_heading level0 row6\" >2004</th>\n",
       "      <td id=\"T_4ce36_row6_col0\" class=\"data row6 col0\" >1.159</td>\n",
       "      <td id=\"T_4ce36_row6_col1\" class=\"data row6 col1\" >1.055</td>\n",
       "      <td id=\"T_4ce36_row6_col2\" class=\"data row6 col2\" >1.026</td>\n",
       "      <td id=\"T_4ce36_row6_col3\" class=\"data row6 col3\" >nan</td>\n",
       "      <td id=\"T_4ce36_row6_col4\" class=\"data row6 col4\" >nan</td>\n",
       "      <td id=\"T_4ce36_row6_col5\" class=\"data row6 col5\" >nan</td>\n",
       "      <td id=\"T_4ce36_row6_col6\" class=\"data row6 col6\" >nan</td>\n",
       "      <td id=\"T_4ce36_row6_col7\" class=\"data row6 col7\" >nan</td>\n",
       "      <td id=\"T_4ce36_row6_col8\" class=\"data row6 col8\" >nan</td>\n",
       "    </tr>\n",
       "    <tr>\n",
       "      <th id=\"T_4ce36_level0_row7\" class=\"row_heading level0 row7\" >2005</th>\n",
       "      <td id=\"T_4ce36_row7_col0\" class=\"data row7 col0\" >1.160</td>\n",
       "      <td id=\"T_4ce36_row7_col1\" class=\"data row7 col1\" >1.056</td>\n",
       "      <td id=\"T_4ce36_row7_col2\" class=\"data row7 col2\" >nan</td>\n",
       "      <td id=\"T_4ce36_row7_col3\" class=\"data row7 col3\" >nan</td>\n",
       "      <td id=\"T_4ce36_row7_col4\" class=\"data row7 col4\" >nan</td>\n",
       "      <td id=\"T_4ce36_row7_col5\" class=\"data row7 col5\" >nan</td>\n",
       "      <td id=\"T_4ce36_row7_col6\" class=\"data row7 col6\" >nan</td>\n",
       "      <td id=\"T_4ce36_row7_col7\" class=\"data row7 col7\" >nan</td>\n",
       "      <td id=\"T_4ce36_row7_col8\" class=\"data row7 col8\" >nan</td>\n",
       "    </tr>\n",
       "    <tr>\n",
       "      <th id=\"T_4ce36_level0_row8\" class=\"row_heading level0 row8\" >2006</th>\n",
       "      <td id=\"T_4ce36_row8_col0\" class=\"data row8 col0\" >1.173</td>\n",
       "      <td id=\"T_4ce36_row8_col1\" class=\"data row8 col1\" >nan</td>\n",
       "      <td id=\"T_4ce36_row8_col2\" class=\"data row8 col2\" >nan</td>\n",
       "      <td id=\"T_4ce36_row8_col3\" class=\"data row8 col3\" >nan</td>\n",
       "      <td id=\"T_4ce36_row8_col4\" class=\"data row8 col4\" >nan</td>\n",
       "      <td id=\"T_4ce36_row8_col5\" class=\"data row8 col5\" >nan</td>\n",
       "      <td id=\"T_4ce36_row8_col6\" class=\"data row8 col6\" >nan</td>\n",
       "      <td id=\"T_4ce36_row8_col7\" class=\"data row8 col7\" >nan</td>\n",
       "      <td id=\"T_4ce36_row8_col8\" class=\"data row8 col8\" >nan</td>\n",
       "    </tr>\n",
       "  </tbody>\n",
       "</table>\n"
      ],
      "text/plain": [
       "<pandas.io.formats.style.Styler at 0x15b46b26350>"
      ]
     },
     "execution_count": 4,
     "metadata": {},
     "output_type": "execute_result"
    }
   ],
   "source": [
    "xyz_tri['Reported'].age_to_age.to_frame().style.format(precision=3)"
   ]
  },
  {
   "cell_type": "markdown",
   "id": "28685d6c",
   "metadata": {},
   "source": [
    "### Simple average last 5 years"
   ]
  },
  {
   "cell_type": "code",
   "execution_count": 5,
   "id": "e3f7da11",
   "metadata": {},
   "outputs": [
    {
     "data": {
      "text/html": [
       "<style type=\"text/css\">\n",
       "</style>\n",
       "<table id=\"T_fd0ea\">\n",
       "  <thead>\n",
       "    <tr>\n",
       "      <th class=\"blank level0\" >&nbsp;</th>\n",
       "      <th id=\"T_fd0ea_level0_col0\" class=\"col_heading level0 col0\" >12-24</th>\n",
       "      <th id=\"T_fd0ea_level0_col1\" class=\"col_heading level0 col1\" >24-36</th>\n",
       "      <th id=\"T_fd0ea_level0_col2\" class=\"col_heading level0 col2\" >36-48</th>\n",
       "      <th id=\"T_fd0ea_level0_col3\" class=\"col_heading level0 col3\" >48-60</th>\n",
       "      <th id=\"T_fd0ea_level0_col4\" class=\"col_heading level0 col4\" >60-72</th>\n",
       "      <th id=\"T_fd0ea_level0_col5\" class=\"col_heading level0 col5\" >72-84</th>\n",
       "      <th id=\"T_fd0ea_level0_col6\" class=\"col_heading level0 col6\" >84-96</th>\n",
       "      <th id=\"T_fd0ea_level0_col7\" class=\"col_heading level0 col7\" >96-108</th>\n",
       "      <th id=\"T_fd0ea_level0_col8\" class=\"col_heading level0 col8\" >108-120</th>\n",
       "    </tr>\n",
       "  </thead>\n",
       "  <tbody>\n",
       "    <tr>\n",
       "      <th id=\"T_fd0ea_level0_row0\" class=\"row_heading level0 row0\" >(All)</th>\n",
       "      <td id=\"T_fd0ea_row0_col0\" class=\"data row0 col0\" >1.168</td>\n",
       "      <td id=\"T_fd0ea_row0_col1\" class=\"data row0 col1\" >1.058</td>\n",
       "      <td id=\"T_fd0ea_row0_col2\" class=\"data row0 col2\" >1.027</td>\n",
       "      <td id=\"T_fd0ea_row0_col3\" class=\"data row0 col3\" >1.011</td>\n",
       "      <td id=\"T_fd0ea_row0_col4\" class=\"data row0 col4\" >1.004</td>\n",
       "      <td id=\"T_fd0ea_row0_col5\" class=\"data row0 col5\" >1.003</td>\n",
       "      <td id=\"T_fd0ea_row0_col6\" class=\"data row0 col6\" >1.002</td>\n",
       "      <td id=\"T_fd0ea_row0_col7\" class=\"data row0 col7\" >1.001</td>\n",
       "      <td id=\"T_fd0ea_row0_col8\" class=\"data row0 col8\" >1.000</td>\n",
       "    </tr>\n",
       "  </tbody>\n",
       "</table>\n"
      ],
      "text/plain": [
       "<pandas.io.formats.style.Styler at 0x15b47676e50>"
      ]
     },
     "execution_count": 5,
     "metadata": {},
     "output_type": "execute_result"
    }
   ],
   "source": [
    "cl.Development(average=\"simple\", n_periods=5).fit(xyz_tri[\"Reported\"]).ldf_.to_frame().style.format(precision=3)"
   ]
  },
  {
   "cell_type": "markdown",
   "id": "205c6ebf",
   "metadata": {},
   "source": [
    "### Simple average last 3 years"
   ]
  },
  {
   "cell_type": "code",
   "execution_count": 6,
   "id": "8c97611f",
   "metadata": {},
   "outputs": [
    {
     "data": {
      "text/html": [
       "<style type=\"text/css\">\n",
       "</style>\n",
       "<table id=\"T_85891\">\n",
       "  <thead>\n",
       "    <tr>\n",
       "      <th class=\"blank level0\" >&nbsp;</th>\n",
       "      <th id=\"T_85891_level0_col0\" class=\"col_heading level0 col0\" >12-24</th>\n",
       "      <th id=\"T_85891_level0_col1\" class=\"col_heading level0 col1\" >24-36</th>\n",
       "      <th id=\"T_85891_level0_col2\" class=\"col_heading level0 col2\" >36-48</th>\n",
       "      <th id=\"T_85891_level0_col3\" class=\"col_heading level0 col3\" >48-60</th>\n",
       "      <th id=\"T_85891_level0_col4\" class=\"col_heading level0 col4\" >60-72</th>\n",
       "      <th id=\"T_85891_level0_col5\" class=\"col_heading level0 col5\" >72-84</th>\n",
       "      <th id=\"T_85891_level0_col6\" class=\"col_heading level0 col6\" >84-96</th>\n",
       "      <th id=\"T_85891_level0_col7\" class=\"col_heading level0 col7\" >96-108</th>\n",
       "      <th id=\"T_85891_level0_col8\" class=\"col_heading level0 col8\" >108-120</th>\n",
       "    </tr>\n",
       "  </thead>\n",
       "  <tbody>\n",
       "    <tr>\n",
       "      <th id=\"T_85891_level0_row0\" class=\"row_heading level0 row0\" >(All)</th>\n",
       "      <td id=\"T_85891_row0_col0\" class=\"data row0 col0\" >1.164</td>\n",
       "      <td id=\"T_85891_row0_col1\" class=\"data row0 col1\" >1.056</td>\n",
       "      <td id=\"T_85891_row0_col2\" class=\"data row0 col2\" >1.027</td>\n",
       "      <td id=\"T_85891_row0_col3\" class=\"data row0 col3\" >1.012</td>\n",
       "      <td id=\"T_85891_row0_col4\" class=\"data row0 col4\" >1.005</td>\n",
       "      <td id=\"T_85891_row0_col5\" class=\"data row0 col5\" >1.003</td>\n",
       "      <td id=\"T_85891_row0_col6\" class=\"data row0 col6\" >1.002</td>\n",
       "      <td id=\"T_85891_row0_col7\" class=\"data row0 col7\" >1.001</td>\n",
       "      <td id=\"T_85891_row0_col8\" class=\"data row0 col8\" >1.000</td>\n",
       "    </tr>\n",
       "  </tbody>\n",
       "</table>\n"
      ],
      "text/plain": [
       "<pandas.io.formats.style.Styler at 0x15b4895fc10>"
      ]
     },
     "execution_count": 6,
     "metadata": {},
     "output_type": "execute_result"
    }
   ],
   "source": [
    "cl.Development(average=\"simple\", n_periods=3).fit(xyz_tri[\"Reported\"]).ldf_.to_frame().style.format(precision=3)"
   ]
  },
  {
   "cell_type": "markdown",
   "id": "b3e0f2fd",
   "metadata": {},
   "source": [
    "### Volume weighted last 5 years"
   ]
  },
  {
   "cell_type": "code",
   "execution_count": 7,
   "id": "263c3b2c",
   "metadata": {},
   "outputs": [
    {
     "data": {
      "text/html": [
       "<style type=\"text/css\">\n",
       "</style>\n",
       "<table id=\"T_f9423\">\n",
       "  <thead>\n",
       "    <tr>\n",
       "      <th class=\"blank level0\" >&nbsp;</th>\n",
       "      <th id=\"T_f9423_level0_col0\" class=\"col_heading level0 col0\" >12-24</th>\n",
       "      <th id=\"T_f9423_level0_col1\" class=\"col_heading level0 col1\" >24-36</th>\n",
       "      <th id=\"T_f9423_level0_col2\" class=\"col_heading level0 col2\" >36-48</th>\n",
       "      <th id=\"T_f9423_level0_col3\" class=\"col_heading level0 col3\" >48-60</th>\n",
       "      <th id=\"T_f9423_level0_col4\" class=\"col_heading level0 col4\" >60-72</th>\n",
       "      <th id=\"T_f9423_level0_col5\" class=\"col_heading level0 col5\" >72-84</th>\n",
       "      <th id=\"T_f9423_level0_col6\" class=\"col_heading level0 col6\" >84-96</th>\n",
       "      <th id=\"T_f9423_level0_col7\" class=\"col_heading level0 col7\" >96-108</th>\n",
       "      <th id=\"T_f9423_level0_col8\" class=\"col_heading level0 col8\" >108-120</th>\n",
       "    </tr>\n",
       "  </thead>\n",
       "  <tbody>\n",
       "    <tr>\n",
       "      <th id=\"T_f9423_level0_row0\" class=\"row_heading level0 row0\" >(All)</th>\n",
       "      <td id=\"T_f9423_row0_col0\" class=\"data row0 col0\" >1.168</td>\n",
       "      <td id=\"T_f9423_row0_col1\" class=\"data row0 col1\" >1.058</td>\n",
       "      <td id=\"T_f9423_row0_col2\" class=\"data row0 col2\" >1.027</td>\n",
       "      <td id=\"T_f9423_row0_col3\" class=\"data row0 col3\" >1.011</td>\n",
       "      <td id=\"T_f9423_row0_col4\" class=\"data row0 col4\" >1.004</td>\n",
       "      <td id=\"T_f9423_row0_col5\" class=\"data row0 col5\" >1.003</td>\n",
       "      <td id=\"T_f9423_row0_col6\" class=\"data row0 col6\" >1.002</td>\n",
       "      <td id=\"T_f9423_row0_col7\" class=\"data row0 col7\" >1.001</td>\n",
       "      <td id=\"T_f9423_row0_col8\" class=\"data row0 col8\" >1.000</td>\n",
       "    </tr>\n",
       "  </tbody>\n",
       "</table>\n"
      ],
      "text/plain": [
       "<pandas.io.formats.style.Styler at 0x15b46fe5550>"
      ]
     },
     "execution_count": 7,
     "metadata": {},
     "output_type": "execute_result"
    }
   ],
   "source": [
    "cl.Development(average=\"volume\", n_periods=5).fit(xyz_tri[\"Reported\"]).ldf_.to_frame().style.format(precision=3)"
   ]
  },
  {
   "cell_type": "markdown",
   "id": "4aa21c41",
   "metadata": {},
   "source": [
    "### Volume weighted last 5 years"
   ]
  },
  {
   "cell_type": "code",
   "execution_count": 8,
   "id": "056e89d6",
   "metadata": {},
   "outputs": [
    {
     "data": {
      "text/html": [
       "<style type=\"text/css\">\n",
       "</style>\n",
       "<table id=\"T_5670b\">\n",
       "  <thead>\n",
       "    <tr>\n",
       "      <th class=\"blank level0\" >&nbsp;</th>\n",
       "      <th id=\"T_5670b_level0_col0\" class=\"col_heading level0 col0\" >12-24</th>\n",
       "      <th id=\"T_5670b_level0_col1\" class=\"col_heading level0 col1\" >24-36</th>\n",
       "      <th id=\"T_5670b_level0_col2\" class=\"col_heading level0 col2\" >36-48</th>\n",
       "      <th id=\"T_5670b_level0_col3\" class=\"col_heading level0 col3\" >48-60</th>\n",
       "      <th id=\"T_5670b_level0_col4\" class=\"col_heading level0 col4\" >60-72</th>\n",
       "      <th id=\"T_5670b_level0_col5\" class=\"col_heading level0 col5\" >72-84</th>\n",
       "      <th id=\"T_5670b_level0_col6\" class=\"col_heading level0 col6\" >84-96</th>\n",
       "      <th id=\"T_5670b_level0_col7\" class=\"col_heading level0 col7\" >96-108</th>\n",
       "      <th id=\"T_5670b_level0_col8\" class=\"col_heading level0 col8\" >108-120</th>\n",
       "    </tr>\n",
       "  </thead>\n",
       "  <tbody>\n",
       "    <tr>\n",
       "      <th id=\"T_5670b_level0_row0\" class=\"row_heading level0 row0\" >(All)</th>\n",
       "      <td id=\"T_5670b_row0_col0\" class=\"data row0 col0\" >1.164</td>\n",
       "      <td id=\"T_5670b_row0_col1\" class=\"data row0 col1\" >1.056</td>\n",
       "      <td id=\"T_5670b_row0_col2\" class=\"data row0 col2\" >1.027</td>\n",
       "      <td id=\"T_5670b_row0_col3\" class=\"data row0 col3\" >1.012</td>\n",
       "      <td id=\"T_5670b_row0_col4\" class=\"data row0 col4\" >1.005</td>\n",
       "      <td id=\"T_5670b_row0_col5\" class=\"data row0 col5\" >1.003</td>\n",
       "      <td id=\"T_5670b_row0_col6\" class=\"data row0 col6\" >1.002</td>\n",
       "      <td id=\"T_5670b_row0_col7\" class=\"data row0 col7\" >1.001</td>\n",
       "      <td id=\"T_5670b_row0_col8\" class=\"data row0 col8\" >1.000</td>\n",
       "    </tr>\n",
       "  </tbody>\n",
       "</table>\n"
      ],
      "text/plain": [
       "<pandas.io.formats.style.Styler at 0x15b4897f350>"
      ]
     },
     "execution_count": 8,
     "metadata": {},
     "output_type": "execute_result"
    }
   ],
   "source": [
    "cl.Development(average=\"volume\", n_periods=3).fit(xyz_tri[\"Reported\"]).ldf_.to_frame().style.format(precision=3)"
   ]
  },
  {
   "cell_type": "markdown",
   "id": "1c4e8334",
   "metadata": {},
   "source": [
    "### Cumulative to ultimate"
   ]
  },
  {
   "cell_type": "code",
   "execution_count": 9,
   "id": "831dd008",
   "metadata": {},
   "outputs": [
    {
     "data": {
      "text/html": [
       "<table border=\"1\" class=\"dataframe\">\n",
       "  <thead>\n",
       "    <tr style=\"text-align: right;\">\n",
       "      <th></th>\n",
       "      <th>12-Ult</th>\n",
       "      <th>24-Ult</th>\n",
       "      <th>36-Ult</th>\n",
       "      <th>48-Ult</th>\n",
       "      <th>60-Ult</th>\n",
       "      <th>72-Ult</th>\n",
       "      <th>84-Ult</th>\n",
       "      <th>96-Ult</th>\n",
       "      <th>108-Ult</th>\n",
       "    </tr>\n",
       "  </thead>\n",
       "  <tbody>\n",
       "    <tr>\n",
       "      <th>(All)</th>\n",
       "      <td>1.2900</td>\n",
       "      <td>1.1081</td>\n",
       "      <td>1.0495</td>\n",
       "      <td>1.0215</td>\n",
       "      <td>1.0099</td>\n",
       "      <td>1.0053</td>\n",
       "      <td>1.0025</td>\n",
       "      <td>1.0009</td>\n",
       "      <td>1.0004</td>\n",
       "    </tr>\n",
       "  </tbody>\n",
       "</table>"
      ],
      "text/plain": [
       "         12-Ult    24-Ult    36-Ult    48-Ult    60-Ult    72-Ult    84-Ult    96-Ult   108-Ult\n",
       "(All)  1.289992  1.108105  1.049464  1.021522  1.009899  1.005305  1.002548  1.000949  1.000369"
      ]
     },
     "execution_count": 9,
     "metadata": {},
     "output_type": "execute_result"
    }
   ],
   "source": [
    "cl.Development(average=\"volume\", n_periods=3).fit(xyz_tri[\"Reported\"]).cdf_"
   ]
  },
  {
   "cell_type": "markdown",
   "id": "44a87795",
   "metadata": {},
   "source": [
    "### Estimation of ultimate reported claims"
   ]
  },
  {
   "cell_type": "code",
   "execution_count": 21,
   "id": "f70970a9",
   "metadata": {},
   "outputs": [
    {
     "data": {
      "text/html": [
       "<style type=\"text/css\">\n",
       "</style>\n",
       "<table id=\"T_eaebb\">\n",
       "  <thead>\n",
       "    <tr>\n",
       "      <th class=\"blank level0\" >&nbsp;</th>\n",
       "      <th id=\"T_eaebb_level0_col0\" class=\"col_heading level0 col0\" >12-Ult</th>\n",
       "      <th id=\"T_eaebb_level0_col1\" class=\"col_heading level0 col1\" >24-Ult</th>\n",
       "      <th id=\"T_eaebb_level0_col2\" class=\"col_heading level0 col2\" >36-Ult</th>\n",
       "      <th id=\"T_eaebb_level0_col3\" class=\"col_heading level0 col3\" >48-Ult</th>\n",
       "      <th id=\"T_eaebb_level0_col4\" class=\"col_heading level0 col4\" >60-Ult</th>\n",
       "      <th id=\"T_eaebb_level0_col5\" class=\"col_heading level0 col5\" >72-Ult</th>\n",
       "      <th id=\"T_eaebb_level0_col6\" class=\"col_heading level0 col6\" >84-Ult</th>\n",
       "      <th id=\"T_eaebb_level0_col7\" class=\"col_heading level0 col7\" >96-Ult</th>\n",
       "      <th id=\"T_eaebb_level0_col8\" class=\"col_heading level0 col8\" >108-Ult</th>\n",
       "      <th id=\"T_eaebb_level0_col9\" class=\"col_heading level0 col9\" >120-Ult</th>\n",
       "      <th id=\"T_eaebb_level0_col10\" class=\"col_heading level0 col10\" >132-Ult</th>\n",
       "    </tr>\n",
       "  </thead>\n",
       "  <tbody>\n",
       "    <tr>\n",
       "      <th id=\"T_eaebb_level0_row0\" class=\"row_heading level0 row0\" >(All)</th>\n",
       "      <td id=\"T_eaebb_row0_col0\" class=\"data row0 col0\" >1.290</td>\n",
       "      <td id=\"T_eaebb_row0_col1\" class=\"data row0 col1\" >1.108</td>\n",
       "      <td id=\"T_eaebb_row0_col2\" class=\"data row0 col2\" >1.049</td>\n",
       "      <td id=\"T_eaebb_row0_col3\" class=\"data row0 col3\" >1.022</td>\n",
       "      <td id=\"T_eaebb_row0_col4\" class=\"data row0 col4\" >1.010</td>\n",
       "      <td id=\"T_eaebb_row0_col5\" class=\"data row0 col5\" >1.005</td>\n",
       "      <td id=\"T_eaebb_row0_col6\" class=\"data row0 col6\" >1.003</td>\n",
       "      <td id=\"T_eaebb_row0_col7\" class=\"data row0 col7\" >1.001</td>\n",
       "      <td id=\"T_eaebb_row0_col8\" class=\"data row0 col8\" >1.000</td>\n",
       "      <td id=\"T_eaebb_row0_col9\" class=\"data row0 col9\" >1.000</td>\n",
       "      <td id=\"T_eaebb_row0_col10\" class=\"data row0 col10\" >1.000</td>\n",
       "    </tr>\n",
       "  </tbody>\n",
       "</table>\n"
      ],
      "text/plain": [
       "<pandas.io.formats.style.Styler at 0x15b496f55d0>"
      ]
     },
     "execution_count": 21,
     "metadata": {},
     "output_type": "execute_result"
    }
   ],
   "source": [
    "xyz_dev = cl.Pipeline(\n",
    "    [(\"dev\", cl.Development(average=\"volume\", n_periods=3))]\n",
    ").fit_transform(xyz_tri['Reported'])\n",
    "xyz_model = cl.Chainladder().fit(xyz_dev)\n",
    "xyz_model.cdf_.to_frame().style.format(precision=3)"
   ]
  },
  {
   "cell_type": "code",
   "execution_count": 19,
   "id": "a7977166",
   "metadata": {},
   "outputs": [
    {
     "data": {
      "text/html": [
       "<table border=\"1\" class=\"dataframe\">\n",
       "  <thead>\n",
       "    <tr style=\"text-align: right;\">\n",
       "      <th></th>\n",
       "      <th>2261</th>\n",
       "    </tr>\n",
       "  </thead>\n",
       "  <tbody>\n",
       "    <tr>\n",
       "      <th>1998</th>\n",
       "      <td>47,742,304</td>\n",
       "    </tr>\n",
       "    <tr>\n",
       "      <th>1999</th>\n",
       "      <td>51,204,671</td>\n",
       "    </tr>\n",
       "    <tr>\n",
       "      <th>2000</th>\n",
       "      <td>54,889,953</td>\n",
       "    </tr>\n",
       "    <tr>\n",
       "      <th>2001</th>\n",
       "      <td>56,443,034</td>\n",
       "    </tr>\n",
       "    <tr>\n",
       "      <th>2002</th>\n",
       "      <td>58,903,567</td>\n",
       "    </tr>\n",
       "    <tr>\n",
       "      <th>2003</th>\n",
       "      <td>58,135,158</td>\n",
       "    </tr>\n",
       "    <tr>\n",
       "      <th>2004</th>\n",
       "      <td>58,202,908</td>\n",
       "    </tr>\n",
       "    <tr>\n",
       "      <th>2005</th>\n",
       "      <td>59,595,283</td>\n",
       "    </tr>\n",
       "    <tr>\n",
       "      <th>2006</th>\n",
       "      <td>60,548,360</td>\n",
       "    </tr>\n",
       "    <tr>\n",
       "      <th>2007</th>\n",
       "      <td>63,020,716</td>\n",
       "    </tr>\n",
       "  </tbody>\n",
       "</table>"
      ],
      "text/plain": [
       "              2261\n",
       "1998  4.774230e+07\n",
       "1999  5.120467e+07\n",
       "2000  5.488995e+07\n",
       "2001  5.644303e+07\n",
       "2002  5.890357e+07\n",
       "2003  5.813516e+07\n",
       "2004  5.820291e+07\n",
       "2005  5.959528e+07\n",
       "2006  6.054836e+07\n",
       "2007  6.302072e+07"
      ]
     },
     "execution_count": 19,
     "metadata": {},
     "output_type": "execute_result"
    }
   ],
   "source": [
    "xyz_model.ultimate_"
   ]
  },
  {
   "cell_type": "markdown",
   "id": "702aafbd",
   "metadata": {},
   "source": [
    "#### Estimation of ultimate claims (from Wikipedia)\n",
    "|Accident year\t| Reported claims\t| Development factor to ultimate\t| Projected ultimate claims |\n",
    "|---|---|---|---|\n",
    "|1998\t| 47,742,304\t| 1.000\t| 47,742,304 |\n",
    "|1999\t| 51,185,767\t| 1.000\t| 51,185,767 |\n",
    "|2000\t| 54,837,929\t| 1.001\t| 54,892,767 |\n",
    "|2001\t| 56,299,562\t| 1.003\t| 56,468,461 |\n",
    "|2002\t| 58,592,712\t| 1.006\t| 58,944,268 |\n",
    "|2003\t| 57,565,344\t| 1.011\t| 58,198,563 | \n",
    "|2004\t| 56,976,657\t| 1.023\t| 58,287,120 |\n",
    "|2005\t| 56,786,410\t| 1.051\t| 59,682,517 |\n",
    "|2006\t| 54,641,339\t| 1.110\t| 60,651,886 |\n",
    "|2007\t| 48,853,563\t| 1.292\t| 63,118,803 |\n",
    "|Total\t| 543,481,587\t| \t\t| 569,172,456 |"
   ]
  },
  {
   "cell_type": "markdown",
   "id": "b815f70a",
   "metadata": {},
   "source": [
    "### Estimation of ultimate paid claims\n",
    "(in progress...)"
   ]
  },
  {
   "cell_type": "code",
   "execution_count": 28,
   "id": "742f2daa",
   "metadata": {},
   "outputs": [
    {
     "data": {
      "text/html": [
       "<style type=\"text/css\">\n",
       "</style>\n",
       "<table id=\"T_cf052\">\n",
       "  <thead>\n",
       "    <tr>\n",
       "      <th class=\"blank level0\" >&nbsp;</th>\n",
       "      <th id=\"T_cf052_level0_col0\" class=\"col_heading level0 col0\" >12-24</th>\n",
       "      <th id=\"T_cf052_level0_col1\" class=\"col_heading level0 col1\" >24-36</th>\n",
       "      <th id=\"T_cf052_level0_col2\" class=\"col_heading level0 col2\" >36-48</th>\n",
       "      <th id=\"T_cf052_level0_col3\" class=\"col_heading level0 col3\" >48-60</th>\n",
       "      <th id=\"T_cf052_level0_col4\" class=\"col_heading level0 col4\" >60-72</th>\n",
       "      <th id=\"T_cf052_level0_col5\" class=\"col_heading level0 col5\" >72-84</th>\n",
       "      <th id=\"T_cf052_level0_col6\" class=\"col_heading level0 col6\" >84-96</th>\n",
       "      <th id=\"T_cf052_level0_col7\" class=\"col_heading level0 col7\" >96-108</th>\n",
       "      <th id=\"T_cf052_level0_col8\" class=\"col_heading level0 col8\" >108-120</th>\n",
       "      <th id=\"T_cf052_level0_col9\" class=\"col_heading level0 col9\" >120-132</th>\n",
       "      <th id=\"T_cf052_level0_col10\" class=\"col_heading level0 col10\" >132-144</th>\n",
       "    </tr>\n",
       "  </thead>\n",
       "  <tbody>\n",
       "    <tr>\n",
       "      <th id=\"T_cf052_level0_row0\" class=\"row_heading level0 row0\" >(All)</th>\n",
       "      <td id=\"T_cf052_row0_col0\" class=\"data row0 col0\" >1.702</td>\n",
       "      <td id=\"T_cf052_row0_col1\" class=\"data row0 col1\" >1.186</td>\n",
       "      <td id=\"T_cf052_row0_col2\" class=\"data row0 col2\" >1.091</td>\n",
       "      <td id=\"T_cf052_row0_col3\" class=\"data row0 col3\" >1.044</td>\n",
       "      <td id=\"T_cf052_row0_col4\" class=\"data row0 col4\" >1.019</td>\n",
       "      <td id=\"T_cf052_row0_col5\" class=\"data row0 col5\" >1.009</td>\n",
       "      <td id=\"T_cf052_row0_col6\" class=\"data row0 col6\" >1.005</td>\n",
       "      <td id=\"T_cf052_row0_col7\" class=\"data row0 col7\" >1.002</td>\n",
       "      <td id=\"T_cf052_row0_col8\" class=\"data row0 col8\" >1.002</td>\n",
       "      <td id=\"T_cf052_row0_col9\" class=\"data row0 col9\" >1.000</td>\n",
       "      <td id=\"T_cf052_row0_col10\" class=\"data row0 col10\" >1.000</td>\n",
       "    </tr>\n",
       "  </tbody>\n",
       "</table>\n"
      ],
      "text/plain": [
       "<pandas.io.formats.style.Styler at 0x15b496ecc10>"
      ]
     },
     "execution_count": 28,
     "metadata": {},
     "output_type": "execute_result"
    }
   ],
   "source": [
    "# Without tail factor\n",
    "xyz_dev_paid = cl.Pipeline(\n",
    "    [(\"dev\", cl.Development(average=\"volume\", n_periods=3))]\n",
    ").fit_transform(xyz_tri['Paid'])\n",
    "xyz_model_paid = cl.Chainladder().fit(xyz_dev_paid)\n",
    "xyz_model_paid.ldf_.to_frame().style.format(precision=3)"
   ]
  },
  {
   "cell_type": "code",
   "execution_count": 40,
   "id": "8fa5eb72",
   "metadata": {},
   "outputs": [
    {
     "data": {
      "text/html": [
       "<style type=\"text/css\">\n",
       "</style>\n",
       "<table id=\"T_f62b3\">\n",
       "  <thead>\n",
       "    <tr>\n",
       "      <th class=\"blank level0\" >&nbsp;</th>\n",
       "      <th id=\"T_f62b3_level0_col0\" class=\"col_heading level0 col0\" >12-24</th>\n",
       "      <th id=\"T_f62b3_level0_col1\" class=\"col_heading level0 col1\" >24-36</th>\n",
       "      <th id=\"T_f62b3_level0_col2\" class=\"col_heading level0 col2\" >36-48</th>\n",
       "      <th id=\"T_f62b3_level0_col3\" class=\"col_heading level0 col3\" >48-60</th>\n",
       "      <th id=\"T_f62b3_level0_col4\" class=\"col_heading level0 col4\" >60-72</th>\n",
       "      <th id=\"T_f62b3_level0_col5\" class=\"col_heading level0 col5\" >72-84</th>\n",
       "      <th id=\"T_f62b3_level0_col6\" class=\"col_heading level0 col6\" >84-96</th>\n",
       "      <th id=\"T_f62b3_level0_col7\" class=\"col_heading level0 col7\" >96-108</th>\n",
       "      <th id=\"T_f62b3_level0_col8\" class=\"col_heading level0 col8\" >108-120</th>\n",
       "      <th id=\"T_f62b3_level0_col9\" class=\"col_heading level0 col9\" >120-132</th>\n",
       "      <th id=\"T_f62b3_level0_col10\" class=\"col_heading level0 col10\" >132-144</th>\n",
       "    </tr>\n",
       "  </thead>\n",
       "  <tbody>\n",
       "    <tr>\n",
       "      <th id=\"T_f62b3_level0_row0\" class=\"row_heading level0 row0\" >(All)</th>\n",
       "      <td id=\"T_f62b3_row0_col0\" class=\"data row0 col0\" >1.702</td>\n",
       "      <td id=\"T_f62b3_row0_col1\" class=\"data row0 col1\" >1.186</td>\n",
       "      <td id=\"T_f62b3_row0_col2\" class=\"data row0 col2\" >1.091</td>\n",
       "      <td id=\"T_f62b3_row0_col3\" class=\"data row0 col3\" >1.044</td>\n",
       "      <td id=\"T_f62b3_row0_col4\" class=\"data row0 col4\" >1.019</td>\n",
       "      <td id=\"T_f62b3_row0_col5\" class=\"data row0 col5\" >1.009</td>\n",
       "      <td id=\"T_f62b3_row0_col6\" class=\"data row0 col6\" >1.005</td>\n",
       "      <td id=\"T_f62b3_row0_col7\" class=\"data row0 col7\" >1.002</td>\n",
       "      <td id=\"T_f62b3_row0_col8\" class=\"data row0 col8\" >1.002</td>\n",
       "      <td id=\"T_f62b3_row0_col9\" class=\"data row0 col9\" >1.001</td>\n",
       "      <td id=\"T_f62b3_row0_col10\" class=\"data row0 col10\" >1.001</td>\n",
       "    </tr>\n",
       "  </tbody>\n",
       "</table>\n"
      ],
      "text/plain": [
       "<pandas.io.formats.style.Styler at 0x15b496ec490>"
      ]
     },
     "execution_count": 40,
     "metadata": {},
     "output_type": "execute_result"
    }
   ],
   "source": [
    "# With constant tail factor\n",
    "xyz_dev_paid = cl.Pipeline([\n",
    "    (\"dev\", cl.Development(average=\"volume\", n_periods=3)),\n",
    "    (\"tail\", cl.TailConstant(1.002))\n",
    "]\n",
    ").fit_transform(xyz_tri['Paid'])\n",
    "xyz_model_paid = cl.Chainladder().fit(xyz_dev_paid)\n",
    "xyz_model_paid.ldf_.to_frame().style.format(precision=3)"
   ]
  },
  {
   "cell_type": "code",
   "execution_count": 42,
   "id": "78bae3af",
   "metadata": {},
   "outputs": [
    {
     "data": {
      "text/html": [
       "<style type=\"text/css\">\n",
       "</style>\n",
       "<table id=\"T_ac333\">\n",
       "  <thead>\n",
       "    <tr>\n",
       "      <th class=\"blank level0\" >&nbsp;</th>\n",
       "      <th id=\"T_ac333_level0_col0\" class=\"col_heading level0 col0\" >12-Ult</th>\n",
       "      <th id=\"T_ac333_level0_col1\" class=\"col_heading level0 col1\" >24-Ult</th>\n",
       "      <th id=\"T_ac333_level0_col2\" class=\"col_heading level0 col2\" >36-Ult</th>\n",
       "      <th id=\"T_ac333_level0_col3\" class=\"col_heading level0 col3\" >48-Ult</th>\n",
       "      <th id=\"T_ac333_level0_col4\" class=\"col_heading level0 col4\" >60-Ult</th>\n",
       "      <th id=\"T_ac333_level0_col5\" class=\"col_heading level0 col5\" >72-Ult</th>\n",
       "      <th id=\"T_ac333_level0_col6\" class=\"col_heading level0 col6\" >84-Ult</th>\n",
       "      <th id=\"T_ac333_level0_col7\" class=\"col_heading level0 col7\" >96-Ult</th>\n",
       "      <th id=\"T_ac333_level0_col8\" class=\"col_heading level0 col8\" >108-Ult</th>\n",
       "      <th id=\"T_ac333_level0_col9\" class=\"col_heading level0 col9\" >120-Ult</th>\n",
       "      <th id=\"T_ac333_level0_col10\" class=\"col_heading level0 col10\" >132-Ult</th>\n",
       "    </tr>\n",
       "  </thead>\n",
       "  <tbody>\n",
       "    <tr>\n",
       "      <th id=\"T_ac333_level0_row0\" class=\"row_heading level0 row0\" >(All)</th>\n",
       "      <td id=\"T_ac333_row0_col0\" class=\"data row0 col0\" >2.391</td>\n",
       "      <td id=\"T_ac333_row0_col1\" class=\"data row0 col1\" >1.404</td>\n",
       "      <td id=\"T_ac333_row0_col2\" class=\"data row0 col2\" >1.184</td>\n",
       "      <td id=\"T_ac333_row0_col3\" class=\"data row0 col3\" >1.085</td>\n",
       "      <td id=\"T_ac333_row0_col4\" class=\"data row0 col4\" >1.040</td>\n",
       "      <td id=\"T_ac333_row0_col5\" class=\"data row0 col5\" >1.021</td>\n",
       "      <td id=\"T_ac333_row0_col6\" class=\"data row0 col6\" >1.011</td>\n",
       "      <td id=\"T_ac333_row0_col7\" class=\"data row0 col7\" >1.006</td>\n",
       "      <td id=\"T_ac333_row0_col8\" class=\"data row0 col8\" >1.004</td>\n",
       "      <td id=\"T_ac333_row0_col9\" class=\"data row0 col9\" >1.002</td>\n",
       "      <td id=\"T_ac333_row0_col10\" class=\"data row0 col10\" >1.001</td>\n",
       "    </tr>\n",
       "  </tbody>\n",
       "</table>\n"
      ],
      "text/plain": [
       "<pandas.io.formats.style.Styler at 0x15b496df690>"
      ]
     },
     "execution_count": 42,
     "metadata": {},
     "output_type": "execute_result"
    }
   ],
   "source": [
    "xyz_model_paid.cdf_.to_frame().style.format(precision=3)"
   ]
  },
  {
   "cell_type": "code",
   "execution_count": 77,
   "id": "036f1155",
   "metadata": {},
   "outputs": [
    {
     "data": {
      "text/html": [
       "<style type=\"text/css\">\n",
       "</style>\n",
       "<table id=\"T_60316\">\n",
       "  <thead>\n",
       "    <tr>\n",
       "      <th class=\"blank level0\" >&nbsp;</th>\n",
       "      <th id=\"T_60316_level0_col0\" class=\"col_heading level0 col0\" >2261</th>\n",
       "    </tr>\n",
       "  </thead>\n",
       "  <tbody>\n",
       "    <tr>\n",
       "      <th id=\"T_60316_level0_row0\" class=\"row_heading level0 row0\" >1998</th>\n",
       "      <td id=\"T_60316_row0_col0\" class=\"data row0 col0\" >47,739,475</td>\n",
       "    </tr>\n",
       "    <tr>\n",
       "      <th id=\"T_60316_level0_row1\" class=\"row_heading level0 row1\" >1999</th>\n",
       "      <td id=\"T_60316_row1_col0\" class=\"data row1 col0\" >51,197,884</td>\n",
       "    </tr>\n",
       "    <tr>\n",
       "      <th id=\"T_60316_level0_row2\" class=\"row_heading level0 row2\" >2000</th>\n",
       "      <td id=\"T_60316_row2_col0\" class=\"data row2 col0\" >54,872,471</td>\n",
       "    </tr>\n",
       "    <tr>\n",
       "      <th id=\"T_60316_level0_row3\" class=\"row_heading level0 row3\" >2001</th>\n",
       "      <td id=\"T_60316_row3_col0\" class=\"data row3 col0\" >56,494,910</td>\n",
       "    </tr>\n",
       "    <tr>\n",
       "      <th id=\"T_60316_level0_row4\" class=\"row_heading level0 row4\" >2002</th>\n",
       "      <td id=\"T_60316_row4_col0\" class=\"data row4 col0\" >58,998,156</td>\n",
       "    </tr>\n",
       "    <tr>\n",
       "      <th id=\"T_60316_level0_row5\" class=\"row_heading level0 row5\" >2003</th>\n",
       "      <td id=\"T_60316_row5_col0\" class=\"data row5 col0\" >58,153,510</td>\n",
       "    </tr>\n",
       "    <tr>\n",
       "      <th id=\"T_60316_level0_row6\" class=\"row_heading level0 row6\" >2004</th>\n",
       "      <td id=\"T_60316_row6_col0\" class=\"data row6 col0\" >58,363,614</td>\n",
       "    </tr>\n",
       "    <tr>\n",
       "      <th id=\"T_60316_level0_row7\" class=\"row_heading level0 row7\" >2005</th>\n",
       "      <td id=\"T_60316_row7_col0\" class=\"data row7 col0\" >59,973,948</td>\n",
       "    </tr>\n",
       "    <tr>\n",
       "      <th id=\"T_60316_level0_row8\" class=\"row_heading level0 row8\" >2006</th>\n",
       "      <td id=\"T_60316_row8_col0\" class=\"data row8 col0\" >61,243,882</td>\n",
       "    </tr>\n",
       "    <tr>\n",
       "      <th id=\"T_60316_level0_row9\" class=\"row_heading level0 row9\" >2007</th>\n",
       "      <td id=\"T_60316_row9_col0\" class=\"data row9 col0\" >65,097,578</td>\n",
       "    </tr>\n",
       "  </tbody>\n",
       "</table>\n"
      ],
      "text/plain": [
       "<pandas.io.formats.style.Styler at 0x15b4da0e410>"
      ]
     },
     "execution_count": 77,
     "metadata": {},
     "output_type": "execute_result"
    }
   ],
   "source": [
    "xyz_paid = xyz_model_paid.ultimate_.to_frame()\n",
    "xyz_paid.index = [x.year for x in xyz_paid.index]\n",
    "xyz_paid.style.format('{:,.0f}')"
   ]
  },
  {
   "cell_type": "code",
   "execution_count": 78,
   "id": "38ce34d4",
   "metadata": {},
   "outputs": [
    {
     "data": {
      "text/html": [
       "<style type=\"text/css\">\n",
       "</style>\n",
       "<table id=\"T_35a22\">\n",
       "  <thead>\n",
       "    <tr>\n",
       "      <th class=\"blank level0\" >&nbsp;</th>\n",
       "      <th id=\"T_35a22_level0_col0\" class=\"col_heading level0 col0\" >0</th>\n",
       "    </tr>\n",
       "  </thead>\n",
       "  <tbody>\n",
       "    <tr>\n",
       "      <th id=\"T_35a22_level0_row0\" class=\"row_heading level0 row0\" >1998</th>\n",
       "      <td id=\"T_35a22_row0_col0\" class=\"data row0 col0\" >47,739,475</td>\n",
       "    </tr>\n",
       "    <tr>\n",
       "      <th id=\"T_35a22_level0_row1\" class=\"row_heading level0 row1\" >1999</th>\n",
       "      <td id=\"T_35a22_row1_col0\" class=\"data row1 col0\" >51,204,536</td>\n",
       "    </tr>\n",
       "    <tr>\n",
       "      <th id=\"T_35a22_level0_row2\" class=\"row_heading level0 row2\" >2000</th>\n",
       "      <td id=\"T_35a22_row2_col0\" class=\"data row2 col0\" >54,860,424</td>\n",
       "    </tr>\n",
       "    <tr>\n",
       "      <th id=\"T_35a22_level0_row3\" class=\"row_heading level0 row3\" >2001</th>\n",
       "      <td id=\"T_35a22_row3_col0\" class=\"data row3 col0\" >56,493,084</td>\n",
       "    </tr>\n",
       "    <tr>\n",
       "      <th id=\"T_35a22_level0_row4\" class=\"row_heading level0 row4\" >2002</th>\n",
       "      <td id=\"T_35a22_row4_col0\" class=\"data row4 col0\" >58,963,359</td>\n",
       "    </tr>\n",
       "    <tr>\n",
       "      <th id=\"T_35a22_level0_row5\" class=\"row_heading level0 row5\" >2003</th>\n",
       "      <td id=\"T_35a22_row5_col0\" class=\"data row5 col0\" >58,167,880</td>\n",
       "    </tr>\n",
       "    <tr>\n",
       "      <th id=\"T_35a22_level0_row6\" class=\"row_heading level0 row6\" >2004</th>\n",
       "      <td id=\"T_35a22_row6_col0\" class=\"data row6 col0\" >58,345,519</td>\n",
       "    </tr>\n",
       "    <tr>\n",
       "      <th id=\"T_35a22_level0_row7\" class=\"row_heading level0 row7\" >2005</th>\n",
       "      <td id=\"T_35a22_row7_col0\" class=\"data row7 col0\" >59,963,673</td>\n",
       "    </tr>\n",
       "    <tr>\n",
       "      <th id=\"T_35a22_level0_row8\" class=\"row_heading level0 row8\" >2006</th>\n",
       "      <td id=\"T_35a22_row8_col0\" class=\"data row8 col0\" >61,223,522</td>\n",
       "    </tr>\n",
       "    <tr>\n",
       "      <th id=\"T_35a22_level0_row9\" class=\"row_heading level0 row9\" >2007</th>\n",
       "      <td id=\"T_35a22_row9_col0\" class=\"data row9 col0\" >65,079,626</td>\n",
       "    </tr>\n",
       "  </tbody>\n",
       "</table>\n"
      ],
      "text/plain": [
       "<pandas.io.formats.style.Styler at 0x15b4ecb6e50>"
      ]
     },
     "execution_count": 78,
     "metadata": {},
     "output_type": "execute_result"
    }
   ],
   "source": [
    "wiki_paid = pd.DataFrame([47739475, 51204536, 54860424, 56493084, 58963359, 58167880, 58345519, 59963673, 61223522, 65079626], index=range(1998,2008))\n",
    "wiki_paid.style.format('{:,.0f}')"
   ]
  },
  {
   "cell_type": "code",
   "execution_count": 75,
   "id": "cb4c0138",
   "metadata": {},
   "outputs": [
    {
     "data": {
      "text/html": [
       "<style type=\"text/css\">\n",
       "</style>\n",
       "<table id=\"T_8b775\">\n",
       "  <thead>\n",
       "    <tr>\n",
       "      <th class=\"blank level0\" >&nbsp;</th>\n",
       "      <th id=\"T_8b775_level0_col0\" class=\"col_heading level0 col0\" >index</th>\n",
       "      <th id=\"T_8b775_level0_col1\" class=\"col_heading level0 col1\" >0</th>\n",
       "    </tr>\n",
       "  </thead>\n",
       "  <tbody>\n",
       "    <tr>\n",
       "      <th id=\"T_8b775_level0_row0\" class=\"row_heading level0 row0\" >0</th>\n",
       "      <td id=\"T_8b775_row0_col0\" class=\"data row0 col0\" >1998</td>\n",
       "      <td id=\"T_8b775_row0_col1\" class=\"data row0 col1\" >0.000%</td>\n",
       "    </tr>\n",
       "    <tr>\n",
       "      <th id=\"T_8b775_level0_row1\" class=\"row_heading level0 row1\" >1</th>\n",
       "      <td id=\"T_8b775_row1_col0\" class=\"data row1 col0\" >1999</td>\n",
       "      <td id=\"T_8b775_row1_col1\" class=\"data row1 col1\" >-0.013%</td>\n",
       "    </tr>\n",
       "    <tr>\n",
       "      <th id=\"T_8b775_level0_row2\" class=\"row_heading level0 row2\" >2</th>\n",
       "      <td id=\"T_8b775_row2_col0\" class=\"data row2 col0\" >2000</td>\n",
       "      <td id=\"T_8b775_row2_col1\" class=\"data row2 col1\" >0.022%</td>\n",
       "    </tr>\n",
       "    <tr>\n",
       "      <th id=\"T_8b775_level0_row3\" class=\"row_heading level0 row3\" >3</th>\n",
       "      <td id=\"T_8b775_row3_col0\" class=\"data row3 col0\" >2001</td>\n",
       "      <td id=\"T_8b775_row3_col1\" class=\"data row3 col1\" >0.003%</td>\n",
       "    </tr>\n",
       "    <tr>\n",
       "      <th id=\"T_8b775_level0_row4\" class=\"row_heading level0 row4\" >4</th>\n",
       "      <td id=\"T_8b775_row4_col0\" class=\"data row4 col0\" >2002</td>\n",
       "      <td id=\"T_8b775_row4_col1\" class=\"data row4 col1\" >0.059%</td>\n",
       "    </tr>\n",
       "    <tr>\n",
       "      <th id=\"T_8b775_level0_row5\" class=\"row_heading level0 row5\" >5</th>\n",
       "      <td id=\"T_8b775_row5_col0\" class=\"data row5 col0\" >2003</td>\n",
       "      <td id=\"T_8b775_row5_col1\" class=\"data row5 col1\" >-0.025%</td>\n",
       "    </tr>\n",
       "    <tr>\n",
       "      <th id=\"T_8b775_level0_row6\" class=\"row_heading level0 row6\" >6</th>\n",
       "      <td id=\"T_8b775_row6_col0\" class=\"data row6 col0\" >2004</td>\n",
       "      <td id=\"T_8b775_row6_col1\" class=\"data row6 col1\" >0.031%</td>\n",
       "    </tr>\n",
       "    <tr>\n",
       "      <th id=\"T_8b775_level0_row7\" class=\"row_heading level0 row7\" >7</th>\n",
       "      <td id=\"T_8b775_row7_col0\" class=\"data row7 col0\" >2005</td>\n",
       "      <td id=\"T_8b775_row7_col1\" class=\"data row7 col1\" >0.017%</td>\n",
       "    </tr>\n",
       "    <tr>\n",
       "      <th id=\"T_8b775_level0_row8\" class=\"row_heading level0 row8\" >8</th>\n",
       "      <td id=\"T_8b775_row8_col0\" class=\"data row8 col0\" >2006</td>\n",
       "      <td id=\"T_8b775_row8_col1\" class=\"data row8 col1\" >0.033%</td>\n",
       "    </tr>\n",
       "    <tr>\n",
       "      <th id=\"T_8b775_level0_row9\" class=\"row_heading level0 row9\" >9</th>\n",
       "      <td id=\"T_8b775_row9_col0\" class=\"data row9 col0\" >2007</td>\n",
       "      <td id=\"T_8b775_row9_col1\" class=\"data row9 col1\" >0.028%</td>\n",
       "    </tr>\n",
       "  </tbody>\n",
       "</table>\n"
      ],
      "text/plain": [
       "<pandas.io.formats.style.Styler at 0x15b4e0a9e90>"
      ]
     },
     "execution_count": 75,
     "metadata": {},
     "output_type": "execute_result"
    }
   ],
   "source": [
    "diff = (xyz_paid['2261']-wiki_paid[0])/wiki_paid[0]\n",
    "diff.reset_index().style.format({0:'{:.3%}'})"
   ]
  },
  {
   "cell_type": "code",
   "execution_count": null,
   "id": "5cea58f6",
   "metadata": {},
   "outputs": [],
   "source": []
  }
 ],
 "metadata": {
  "kernelspec": {
   "display_name": "Python 3 (ipykernel)",
   "language": "python",
   "name": "python3"
  },
  "language_info": {
   "codemirror_mode": {
    "name": "ipython",
    "version": 3
   },
   "file_extension": ".py",
   "mimetype": "text/x-python",
   "name": "python",
   "nbconvert_exporter": "python",
   "pygments_lexer": "ipython3",
   "version": "3.11.5"
  }
 },
 "nbformat": 4,
 "nbformat_minor": 5
}
